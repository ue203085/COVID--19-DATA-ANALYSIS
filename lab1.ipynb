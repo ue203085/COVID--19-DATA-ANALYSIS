{
  "cells": [
    {
      "cell_type": "markdown",
      "metadata": {
        "id": "view-in-github",
        "colab_type": "text"
      },
      "source": [
        "<a href=\"https://colab.research.google.com/github/ue203085/COVID--19-DATA-ANALYSIS/blob/main/lab1.ipynb\" target=\"_parent\"><img src=\"https://colab.research.google.com/assets/colab-badge.svg\" alt=\"Open In Colab\"/></a>"
      ]
    },
    {
      "cell_type": "code",
      "execution_count": null,
      "metadata": {
        "id": "VyTfzVKlJ9tE",
        "outputId": "22caa5a9-1d5d-4672-f16b-b012dcdb7b46"
      },
      "outputs": [
        {
          "name": "stdout",
          "output_type": "stream",
          "text": [
            "Input vector:[0 1 1], Weight vector:[-1  1  1]\n"
          ]
        }
      ],
      "source": [
        "import numpy as np\n",
        "np.random.seed(seed=0)\n",
        "I = np.random.choice([0,1], 3)# generate random vector I, sampling from {0,1}\n",
        "W = np.random.choice([-1,1], 3) # generate random vector W, sampling from {-1,1}\n",
        "print(f'Input vector:{I}, Weight vector:{W}')"
      ]
    },
    {
      "cell_type": "code",
      "execution_count": null,
      "metadata": {
        "id": "YpQlXow2J9tH",
        "outputId": "4ce9cb36-553a-40c4-89d5-a1b0d597071d"
      },
      "outputs": [
        {
          "name": "stdout",
          "output_type": "stream",
          "text": [
            "Dot product: 2\n"
          ]
        }
      ],
      "source": [
        "dot = I @ W\n",
        "print(f'Dot product: {dot}')"
      ]
    },
    {
      "cell_type": "code",
      "execution_count": null,
      "metadata": {
        "id": "DGIwS99AJ9tH"
      },
      "outputs": [],
      "source": [
        "def linear_threshold_gate(dot: int, T: float) -> int:\n",
        "    '''Returns the binary threshold output'''\n",
        "    if dot >= T:\n",
        "        return 1\n",
        "    else:\n",
        "        return 0"
      ]
    },
    {
      "cell_type": "code",
      "execution_count": null,
      "metadata": {
        "id": "E7xQEjzWJ9tH",
        "outputId": "24f34c16-01c5-40cc-8d47-1b0878f6ba2d"
      },
      "outputs": [
        {
          "name": "stdout",
          "output_type": "stream",
          "text": [
            "Activation: 1\n"
          ]
        }
      ],
      "source": [
        "T = 1\n",
        "activation = linear_threshold_gate(dot, T)\n",
        "print(f'Activation: {activation}')"
      ]
    },
    {
      "cell_type": "code",
      "execution_count": null,
      "metadata": {
        "id": "vBox9RvEJ9tI",
        "outputId": "6ac260ed-8d9d-4bc5-9800-4ce2a6081180"
      },
      "outputs": [
        {
          "name": "stdout",
          "output_type": "stream",
          "text": [
            "Activation: 0\n"
          ]
        }
      ],
      "source": [
        "T = 3\n",
        "activation = linear_threshold_gate(dot, T)\n",
        "print(f'Activation: {activation}')"
      ]
    },
    {
      "cell_type": "code",
      "execution_count": null,
      "metadata": {
        "id": "e8onZoFSJ9tI",
        "outputId": "4f14439d-a78b-4790-8866-da37d0d8da43"
      },
      "outputs": [
        {
          "name": "stdout",
          "output_type": "stream",
          "text": [
            "input table:\n",
            "[[0 0]\n",
            " [0 1]\n",
            " [1 0]\n",
            " [1 1]]\n"
          ]
        }
      ],
      "source": [
        "# matrix of inputs\n",
        "input_table = np.array([\n",
        "    [0,0], # both no\n",
        "    [0,1], # one no, one yes\n",
        "    [1,0], # one yes, one no\n",
        "    [1,1]  # bot yes\n",
        "])\n",
        "\n",
        "print(f'input table:\\n{input_table}')"
      ]
    },
    {
      "cell_type": "code",
      "execution_count": null,
      "metadata": {
        "id": "fg-yuo0SJ9tI",
        "outputId": "e67d5aa5-19a4-4982-e99d-4c1dc6b25302"
      },
      "outputs": [
        {
          "name": "stdout",
          "output_type": "stream",
          "text": [
            "weights: [1 1]\n"
          ]
        }
      ],
      "source": [
        "# array of weights\n",
        "weights = np.array([1,1])\n",
        "print(f'weights: {weights}')"
      ]
    },
    {
      "cell_type": "code",
      "execution_count": null,
      "metadata": {
        "id": "PAT1R2v8J9tI",
        "outputId": "42726c8f-06cc-410b-cf4c-00e778b81bd1"
      },
      "outputs": [
        {
          "name": "stdout",
          "output_type": "stream",
          "text": [
            "Dot products: [0 1 1 2]\n"
          ]
        }
      ],
      "source": [
        "# dot product matrix of inputs and weights\n",
        "dot_products = input_table @ weights\n",
        "print(f'Dot products: {dot_products}')"
      ]
    },
    {
      "cell_type": "code",
      "execution_count": null,
      "metadata": {
        "id": "k5O_nKZyJ9tJ",
        "outputId": "604bde9d-dfdd-46d9-de19-c13e95c7e235"
      },
      "outputs": [
        {
          "name": "stdout",
          "output_type": "stream",
          "text": [
            "Activation: 0\n",
            "Activation: 0\n",
            "Activation: 0\n",
            "Activation: 0\n"
          ]
        }
      ],
      "source": [
        "T = 3\n",
        "for i in range(0,4):\n",
        "    activation = linear_threshold_gate(dot_products[i], T)\n",
        "    print(f'Activation: {activation}')\n"
      ]
    }
  ],
  "metadata": {
    "kernelspec": {
      "display_name": "Python 3",
      "language": "python",
      "name": "python3"
    },
    "language_info": {
      "codemirror_mode": {
        "name": "ipython",
        "version": 3
      },
      "file_extension": ".py",
      "mimetype": "text/x-python",
      "name": "python",
      "nbconvert_exporter": "python",
      "pygments_lexer": "ipython3",
      "version": "3.10.0"
    },
    "orig_nbformat": 4,
    "colab": {
      "provenance": [],
      "include_colab_link": true
    }
  },
  "nbformat": 4,
  "nbformat_minor": 0
}